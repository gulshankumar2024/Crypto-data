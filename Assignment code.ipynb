{
 "cells": [
  {
   "cell_type": "code",
   "execution_count": 1,
   "metadata": {},
   "outputs": [
    {
     "name": "stdout",
     "output_type": "stream",
     "text": [
      "Requirement already satisfied: requests in c:\\users\\ideapad g3\\appdata\\local\\programs\\python\\python310\\lib\\site-packages (2.32.3)\n",
      "Collecting pandas\n",
      "  Downloading pandas-2.2.3-cp310-cp310-win_amd64.whl (11.6 MB)\n",
      "     ---------------------------------------- 11.6/11.6 MB 3.3 MB/s eta 0:00:00\n",
      "Collecting openpyxl\n",
      "  Downloading openpyxl-3.1.5-py2.py3-none-any.whl (250 kB)\n",
      "     -------------------------------------- 250.9/250.9 KB 3.9 MB/s eta 0:00:00\n",
      "Requirement already satisfied: charset-normalizer<4,>=2 in c:\\users\\ideapad g3\\appdata\\local\\programs\\python\\python310\\lib\\site-packages (from requests) (3.4.1)\n",
      "Requirement already satisfied: idna<4,>=2.5 in c:\\users\\ideapad g3\\appdata\\local\\programs\\python\\python310\\lib\\site-packages (from requests) (3.10)\n",
      "Requirement already satisfied: urllib3<3,>=1.21.1 in c:\\users\\ideapad g3\\appdata\\local\\programs\\python\\python310\\lib\\site-packages (from requests) (2.3.0)\n",
      "Requirement already satisfied: certifi>=2017.4.17 in c:\\users\\ideapad g3\\appdata\\local\\programs\\python\\python310\\lib\\site-packages (from requests) (2025.1.31)\n",
      "Collecting numpy>=1.22.4\n",
      "  Downloading numpy-2.2.3-cp310-cp310-win_amd64.whl (12.9 MB)\n",
      "     ---------------------------------------- 12.9/12.9 MB 3.6 MB/s eta 0:00:00\n",
      "Collecting tzdata>=2022.7\n",
      "  Downloading tzdata-2025.1-py2.py3-none-any.whl (346 kB)\n",
      "     -------------------------------------- 346.8/346.8 KB 3.6 MB/s eta 0:00:00\n",
      "Collecting pytz>=2020.1\n",
      "  Downloading pytz-2025.1-py2.py3-none-any.whl (507 kB)\n",
      "     -------------------------------------- 507.9/507.9 KB 4.6 MB/s eta 0:00:00\n",
      "Requirement already satisfied: python-dateutil>=2.8.2 in c:\\users\\ideapad g3\\appdata\\local\\programs\\python\\python310\\lib\\site-packages (from pandas) (2.9.0.post0)\n",
      "Collecting et-xmlfile\n",
      "  Downloading et_xmlfile-2.0.0-py3-none-any.whl (18 kB)\n",
      "Requirement already satisfied: six>=1.5 in c:\\users\\ideapad g3\\appdata\\local\\programs\\python\\python310\\lib\\site-packages (from python-dateutil>=2.8.2->pandas) (1.17.0)\n",
      "Installing collected packages: pytz, tzdata, numpy, et-xmlfile, pandas, openpyxl\n",
      "Successfully installed et-xmlfile-2.0.0 numpy-2.2.3 openpyxl-3.1.5 pandas-2.2.3 pytz-2025.1 tzdata-2025.1\n",
      "Note: you may need to restart the kernel to use updated packages.\n"
     ]
    },
    {
     "name": "stderr",
     "output_type": "stream",
     "text": [
      "ERROR: pip's dependency resolver does not currently take into account all the packages that are installed. This behaviour is the source of the following dependency conflicts.\n",
      "tensorflow-intel 2.18.0 requires numpy<2.1.0,>=1.26.0, but you have numpy 2.2.3 which is incompatible.\n",
      "mediapipe 0.10.20 requires numpy<2, but you have numpy 2.2.3 which is incompatible.\n",
      "WARNING: You are using pip version 22.0.4; however, version 25.0.1 is available.\n",
      "You should consider upgrading via the 'c:\\Users\\IDEAPAD G3\\AppData\\Local\\Programs\\Python\\Python310\\python.exe -m pip install --upgrade pip' command.\n"
     ]
    }
   ],
   "source": [
    "pip install requests pandas openpyxl"
   ]
  },
  {
   "cell_type": "code",
   "execution_count": 2,
   "metadata": {},
   "outputs": [
    {
     "ename": "NameError",
     "evalue": "name 'df' is not defined",
     "output_type": "error",
     "traceback": [
      "\u001b[1;31m---------------------------------------------------------------------------\u001b[0m",
      "\u001b[1;31mNameError\u001b[0m                                 Traceback (most recent call last)",
      "Cell \u001b[1;32mIn[2], line 2\u001b[0m\n\u001b[0;32m      1\u001b[0m \u001b[38;5;66;03m# Calculate the top 5 cryptocurrencies by market cap\u001b[39;00m\n\u001b[1;32m----> 2\u001b[0m top_5_by_market_cap \u001b[38;5;241m=\u001b[39m \u001b[43mdf\u001b[49m\u001b[38;5;241m.\u001b[39mnlargest(\u001b[38;5;241m5\u001b[39m, \u001b[38;5;124m'\u001b[39m\u001b[38;5;124mMarket Capitalization\u001b[39m\u001b[38;5;124m'\u001b[39m)\n\u001b[0;32m      4\u001b[0m \u001b[38;5;66;03m# Calculate the average price of the top 50 cryptocurrencies\u001b[39;00m\n\u001b[0;32m      5\u001b[0m average_price \u001b[38;5;241m=\u001b[39m df[\u001b[38;5;124m'\u001b[39m\u001b[38;5;124mCurrent Price (USD)\u001b[39m\u001b[38;5;124m'\u001b[39m]\u001b[38;5;241m.\u001b[39mmean()\n",
      "\u001b[1;31mNameError\u001b[0m: name 'df' is not defined"
     ]
    }
   ],
   "source": [
    "# Calculate the top 5 cryptocurrencies by market cap\n",
    "top_5_by_market_cap = df.nlargest(5, 'Market Capitalization')\n",
    "\n",
    "# Calculate the average price of the top 50 cryptocurrencies\n",
    "average_price = df['Current Price (USD)'].mean()\n",
    "\n",
    "# Find the highest and lowest 24-hour price change\n",
    "highest_price_change = df.nlargest(1, '24-hour Price Change (%)')\n",
    "lowest_price_change = df.nsmallest(1, '24-hour Price Change (%)')\n",
    "\n",
    "# Print the analysis results\n",
    "print(\"Top 5 Cryptocurrencies by Market Cap:\")\n",
    "print(top_5_by_market_cap[['Cryptocurrency Name', 'Market Capitalization']])\n",
    "\n",
    "print(f\"\\nAverage Price of Top 50 Cryptocurrencies: ${average_price:.2f}\")\n",
    "\n",
    "print(\"\\nHighest 24-hour Price Change:\")\n",
    "print(highest_price_change[['Cryptocurrency Name', '24-hour Price Change (%)']])\n",
    "\n",
    "print(\"\\nLowest 24-hour Price Change:\")\n",
    "print(lowest_price_change[['Cryptocurrency Name', '24-hour Price Change (%)']])"
   ]
  },
  {
   "cell_type": "code",
   "execution_count": 3,
   "metadata": {},
   "outputs": [
    {
     "name": "stdout",
     "output_type": "stream",
     "text": [
      "Data fetched and saved to crypto_data.xlsx\n",
      "\n",
      "Top 5 Cryptocurrencies by Market Cap:\n",
      "  Cryptocurrency Name  Market Capitalization\n",
      "0             Bitcoin          1703836856579\n",
      "1            Ethereum           268814741547\n",
      "2              Tether           142117080809\n",
      "3                 XRP           131886016919\n",
      "4                 BNB            88878506449\n",
      "\n",
      "Average Price of Top 50 Cryptocurrencies: $5424.58\n",
      "\n",
      "Highest 24-hour Price Change:\n",
      "   Cryptocurrency Name  24-hour Price Change (%)\n",
      "13             Stellar                   9.76645\n",
      "\n",
      "Lowest 24-hour Price Change:\n",
      "   Cryptocurrency Name  24-hour Price Change (%)\n",
      "16            Litecoin                  -3.72824\n"
     ]
    }
   ],
   "source": [
    "import requests\n",
    "import pandas as pd\n",
    "\n",
    "# CoinGecko API endpoint for top 50 cryptocurrencies by market cap\n",
    "url = \"https://api.coingecko.com/api/v3/coins/markets?vs_currency=usd&order=market_cap_desc&per_page=50&page=1&sparkline=false\"\n",
    "\n",
    "# Fetch data from the API\n",
    "response = requests.get(url)\n",
    "data = response.json()\n",
    "\n",
    "# Convert the data into a pandas DataFrame\n",
    "df = pd.DataFrame(data, columns=['name', 'symbol', 'current_price', 'market_cap', 'total_volume', 'price_change_percentage_24h'])\n",
    "\n",
    "# Rename columns for better readability\n",
    "df.rename(columns={\n",
    "    'name': 'Cryptocurrency Name',\n",
    "    'symbol': 'Symbol',\n",
    "    'current_price': 'Current Price (USD)',\n",
    "    'market_cap': 'Market Capitalization',\n",
    "    'total_volume': '24-hour Trading Volume',\n",
    "    'price_change_percentage_24h': '24-hour Price Change (%)'\n",
    "}, inplace=True)\n",
    "\n",
    "# Save the data to an Excel file\n",
    "df.to_excel('crypto_data.xlsx', index=False)\n",
    "\n",
    "print(\"Data fetched and saved to crypto_data.xlsx\")\n",
    "\n",
    "# Perform analysis on the DataFrame\n",
    "# Calculate the top 5 cryptocurrencies by market cap\n",
    "top_5_by_market_cap = df.nlargest(5, 'Market Capitalization')\n",
    "\n",
    "# Calculate the average price of the top 50 cryptocurrencies\n",
    "average_price = df['Current Price (USD)'].mean()\n",
    "\n",
    "# Find the highest and lowest 24-hour price change\n",
    "highest_price_change = df.nlargest(1, '24-hour Price Change (%)')\n",
    "lowest_price_change = df.nsmallest(1, '24-hour Price Change (%)')\n",
    "\n",
    "# Print the analysis results\n",
    "print(\"\\nTop 5 Cryptocurrencies by Market Cap:\")\n",
    "print(top_5_by_market_cap[['Cryptocurrency Name', 'Market Capitalization']])\n",
    "\n",
    "print(f\"\\nAverage Price of Top 50 Cryptocurrencies: ${average_price:.2f}\")\n",
    "\n",
    "print(\"\\nHighest 24-hour Price Change:\")\n",
    "print(highest_price_change[['Cryptocurrency Name', '24-hour Price Change (%)']])\n",
    "\n",
    "print(\"\\nLowest 24-hour Price Change:\")\n",
    "print(lowest_price_change[['Cryptocurrency Name', '24-hour Price Change (%)']])"
   ]
  },
  {
   "cell_type": "code",
   "execution_count": 4,
   "metadata": {},
   "outputs": [
    {
     "name": "stdout",
     "output_type": "stream",
     "text": [
      "Top 5 Cryptocurrencies by Market Cap:\n",
      "  Cryptocurrency Name  Market Capitalization\n",
      "0             Bitcoin          1703836856579\n",
      "1            Ethereum           268814741547\n",
      "2              Tether           142117080809\n",
      "3                 XRP           131886016919\n",
      "4                 BNB            88878506449\n",
      "\n",
      "Average Price of Top 50 Cryptocurrencies: $5424.58\n",
      "\n",
      "Highest 24-hour Price Change:\n",
      "   Cryptocurrency Name  24-hour Price Change (%)\n",
      "13             Stellar                   9.76645\n",
      "\n",
      "Lowest 24-hour Price Change:\n",
      "   Cryptocurrency Name  24-hour Price Change (%)\n",
      "16            Litecoin                  -3.72824\n"
     ]
    }
   ],
   "source": [
    "# Calculate the top 5 cryptocurrencies by market cap\n",
    "top_5_by_market_cap = df.nlargest(5, 'Market Capitalization')\n",
    "\n",
    "# Calculate the average price of the top 50 cryptocurrencies\n",
    "average_price = df['Current Price (USD)'].mean()\n",
    "\n",
    "# Find the highest and lowest 24-hour price change\n",
    "highest_price_change = df.nlargest(1, '24-hour Price Change (%)')\n",
    "lowest_price_change = df.nsmallest(1, '24-hour Price Change (%)')\n",
    "\n",
    "# Print the analysis results\n",
    "print(\"Top 5 Cryptocurrencies by Market Cap:\")\n",
    "print(top_5_by_market_cap[['Cryptocurrency Name', 'Market Capitalization']])\n",
    "\n",
    "print(f\"\\nAverage Price of Top 50 Cryptocurrencies: ${average_price:.2f}\")\n",
    "\n",
    "print(\"\\nHighest 24-hour Price Change:\")\n",
    "print(highest_price_change[['Cryptocurrency Name', '24-hour Price Change (%)']])\n",
    "\n",
    "print(\"\\nLowest 24-hour Price Change:\")\n",
    "print(lowest_price_change[['Cryptocurrency Name', '24-hour Price Change (%)']])"
   ]
  },
  {
   "cell_type": "code",
   "execution_count": 6,
   "metadata": {},
   "outputs": [
    {
     "name": "stdout",
     "output_type": "stream",
     "text": [
      "Collecting schedule\n",
      "  Downloading schedule-1.2.2-py3-none-any.whl (12 kB)\n",
      "Installing collected packages: schedule\n",
      "Successfully installed schedule-1.2.2\n",
      "Note: you may need to restart the kernel to use updated packages.\n"
     ]
    },
    {
     "name": "stderr",
     "output_type": "stream",
     "text": [
      "WARNING: You are using pip version 22.0.4; however, version 25.0.1 is available.\n",
      "You should consider upgrading via the 'c:\\Users\\IDEAPAD G3\\AppData\\Local\\Programs\\Python\\Python310\\python.exe -m pip install --upgrade pip' command.\n"
     ]
    }
   ],
   "source": [
    "pip install schedule"
   ]
  },
  {
   "cell_type": "code",
   "execution_count": 7,
   "metadata": {},
   "outputs": [
    {
     "name": "stdout",
     "output_type": "stream",
     "text": [
      "Requirement already satisfied: schedule in c:\\users\\ideapad g3\\appdata\\local\\programs\\python\\python310\\lib\\site-packages (1.2.2)\n"
     ]
    },
    {
     "name": "stderr",
     "output_type": "stream",
     "text": [
      "WARNING: You are using pip version 22.0.4; however, version 25.0.1 is available.\n",
      "You should consider upgrading via the 'C:\\Users\\IDEAPAD G3\\AppData\\Local\\Programs\\Python\\Python310\\python.exe -m pip install --upgrade pip' command.\n"
     ]
    }
   ],
   "source": [
    "!pip install schedule\n"
   ]
  },
  {
   "cell_type": "code",
   "execution_count": 8,
   "metadata": {},
   "outputs": [
    {
     "name": "stdout",
     "output_type": "stream",
     "text": [
      "Schedule module imported successfully!\n"
     ]
    }
   ],
   "source": [
    "import schedule\n",
    "print(\"Schedule module imported successfully!\")\n"
   ]
  },
  {
   "cell_type": "code",
   "execution_count": null,
   "metadata": {},
   "outputs": [
    {
     "name": "stdout",
     "output_type": "stream",
     "text": [
      "Live crypto tracking started... Press Ctrl+C to stop.\n",
      "Fetching live cryptocurrency data...\n",
      "Updated Live_Crypto_Data.xlsx successfully.\n",
      "Analysis report saved as 'Analysis_Report.txt'.\n",
      "\n",
      "Fetching live cryptocurrency data...\n",
      "Updated Live_Crypto_Data.xlsx successfully.\n",
      "Analysis report saved as 'Analysis_Report.txt'.\n",
      "\n",
      "Fetching live cryptocurrency data...\n",
      "Updated Live_Crypto_Data.xlsx successfully.\n",
      "Analysis report saved as 'Analysis_Report.txt'.\n",
      "\n",
      "Fetching live cryptocurrency data...\n",
      "Updated Live_Crypto_Data.xlsx successfully.\n",
      "Analysis report saved as 'Analysis_Report.txt'.\n",
      "\n"
     ]
    }
   ],
   "source": [
    "import requests\n",
    "import pandas as pd\n",
    "import time\n",
    "import schedule\n",
    "\n",
    "# Function to fetch live cryptocurrency data\n",
    "def fetch_crypto_data():\n",
    "    url = \"https://api.coingecko.com/api/v3/coins/markets\"\n",
    "    params = {\n",
    "        \"vs_currency\": \"usd\",\n",
    "        \"order\": \"market_cap_desc\",\n",
    "        \"per_page\": 50,\n",
    "        \"page\": 1,\n",
    "        \"sparkline\": \"false\"\n",
    "    }\n",
    "    \n",
    "    response = requests.get(url, params=params)\n",
    "    if response.status_code == 200:\n",
    "        return response.json()\n",
    "    else:\n",
    "        print(\"Error fetching data\")\n",
    "        return None\n",
    "\n",
    "# Function to analyze data\n",
    "def analyze_data(data):\n",
    "    df = pd.DataFrame(data)[['name', 'symbol', 'current_price', 'market_cap', 'total_volume', 'price_change_percentage_24h']]\n",
    "    \n",
    "    # Top 5 cryptocurrencies by market cap\n",
    "    top_5 = df.nlargest(5, 'market_cap')\n",
    "    \n",
    "    # Average price of top 50 cryptocurrencies\n",
    "    avg_price = df['current_price'].mean()\n",
    "    \n",
    "    # Highest & lowest 24-hour percentage change\n",
    "    highest_change = df.nlargest(1, 'price_change_percentage_24h')\n",
    "    lowest_change = df.nsmallest(1, 'price_change_percentage_24h')\n",
    "    \n",
    "    return df, top_5, avg_price, highest_change, lowest_change\n",
    "\n",
    "# Function to save data to an Excel file\n",
    "def save_to_excel(df):\n",
    "    file_name = \"Live_Crypto_Data.xlsx\"\n",
    "    df.to_excel(file_name, index=False)\n",
    "    print(f\"Updated {file_name} successfully.\")\n",
    "\n",
    "# Function to run the entire process\n",
    "def run_task():\n",
    "    print(\"Fetching live cryptocurrency data...\")\n",
    "    data = fetch_crypto_data()\n",
    "    \n",
    "    if data:\n",
    "        df, top_5, avg_price, highest_change, lowest_change = analyze_data(data)\n",
    "        save_to_excel(df)\n",
    "        \n",
    "        # Generate analysis report\n",
    "        with open(\"Analysis_Report.txt\", \"w\") as report:\n",
    "            report.write(\"Cryptocurrency Analysis Report\\n\")\n",
    "            report.write(\"=\"*40 + \"\\n\")\n",
    "            report.write(f\"Top 5 Cryptos by Market Cap:\\n{top_5.to_string(index=False)}\\n\\n\")\n",
    "            report.write(f\"Average Price of Top 50 Cryptos: ${avg_price:.2f}\\n\\n\")\n",
    "            report.write(f\"Highest 24h Change:\\n{highest_change.to_string(index=False)}\\n\\n\")\n",
    "            report.write(f\"Lowest 24h Change:\\n{lowest_change.to_string(index=False)}\\n\")\n",
    "        \n",
    "        print(\"Analysis report saved as 'Analysis_Report.txt'.\\n\")\n",
    "\n",
    "# Schedule the script to run every 5 minutes\n",
    "schedule.every(5).minutes.do(run_task)\n",
    "\n",
    "print(\"Live crypto tracking started... Press Ctrl+C to stop.\")\n",
    "while True:\n",
    "    schedule.run_pending()\n",
    "    time.sleep(1)\n"
   ]
  },
  {
   "cell_type": "code",
   "execution_count": null,
   "metadata": {},
   "outputs": [],
   "source": []
  }
 ],
 "metadata": {
  "kernelspec": {
   "display_name": "Python 3",
   "language": "python",
   "name": "python3"
  },
  "language_info": {
   "codemirror_mode": {
    "name": "ipython",
    "version": 3
   },
   "file_extension": ".py",
   "mimetype": "text/x-python",
   "name": "python",
   "nbconvert_exporter": "python",
   "pygments_lexer": "ipython3",
   "version": "3.10.5"
  }
 },
 "nbformat": 4,
 "nbformat_minor": 2
}
